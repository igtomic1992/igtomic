{
 "cells": [
  {
   "cell_type": "code",
   "execution_count": 1,
   "metadata": {},
   "outputs": [],
   "source": [
    "import matplotlib.pyplot as plt \n",
    "import scipy.io\n",
    "import numpy as np\n",
    "import readmat\n",
    "%matplotlib inline\n",
    "from scipy.stats import multivariate_normal\n",
    "# installing packages for interactive graphs\n",
    "import ipywidgets as widgets\n",
    "from IPython.display import display\n",
    "from ipywidgets import interact, interactive, fixed, interact_manual, IntSlider\n",
    "\n",
    "\n"
   ]
  },
  {
   "cell_type": "code",
   "execution_count": 2,
   "metadata": {},
   "outputs": [
    {
     "data": {
      "application/vnd.jupyter.widget-view+json": {
       "model_id": "7c1304f0c2974eddb03bd427cd3cc703",
       "version_major": 2,
       "version_minor": 0
      },
      "text/plain": [
       "interactive(children=(Dropdown(description='var1', options=('longitudinal12', 'transversal12', 'bidirectional1…"
      ]
     },
     "metadata": {},
     "output_type": "display_data"
    }
   ],
   "source": [
    "run_name=[\"longitudinal12\", \"transversal12\", \"bidirectional12\",\"longitudinal25\", \"transversal25\", \"bidirectional25\",\"longitudinal50\",\"longitudinal50new\",\"transversal25new\",\"transversal50new\"] \n",
    "comparison_type=[\"interface\", \"marker\"]\n",
    "opening_type=[\"longitudinal\",\"transversal\"]\n",
    "marker_number=np.linspace(1,11,11).astype('int')\n",
    "\n",
    "\n",
    "@interact_manual(var1 = (run_name), var2=(comparison_type), var3 = (opening_type), var4=(marker_number))\n",
    "def bivariate_plot(var1, var2, var3, var4):\n",
    "    string_start=\"C:/Users/Igor/Google Drive/Doktorski/SERA - Adjacent Interacting Masonry Structures/Optotrak/Test results/Optotrak Python/Marker_data_postprocessed/\"\n",
    "    string_end=\".mat\"\n",
    "    stringfinal=string_start+var1+string_end\n",
    "    a=readmat.mat2dict(stringfinal)\n",
    "    marker=a[\"marker\"]\n",
    "    numsteps=len(marker[0].data)\n",
    "    #print the interface separation\n",
    "    t=np.arange(0,numsteps)/200\n",
    "    \n",
    "    if var2==\"interface\":\n",
    "        if var3==\"longitudinal\":\n",
    "            plt.figure(0)\n",
    "            plt.plot(t,marker[5].data[:,0]-marker[4].data[:,0])\n",
    "            plt.xlabel ('Time [s]')\n",
    "            plt.ylabel ('\\u0394$_{longitudinal}$ [mm]')   \n",
    "        elif var3==\"transversal\":\n",
    "            plt.figure(1)\n",
    "            t=np.arange(0,numsteps)/200\n",
    "            plt.plot(t,marker[5].data[:,2]-marker[4].data[:,2])\n",
    "            plt.xlabel ('Time [s]')\n",
    "            plt.ylabel ('\\u0394$_{transversal}$ [mm]')\n",
    "    elif var2==\"marker\":\n",
    "        if var3==\"longitudinal\":\n",
    "            plt.figure(0)\n",
    "            plt.plot(t,marker[var4-1].data[:,0])\n",
    "            plt.xlabel ('Time [s]')\n",
    "            plt.ylabel ('Marker '+ str(var4) + ' ' + var3 +'[mm]') \n",
    "        elif var3==\"transversal\":\n",
    "            plt.figure(0)\n",
    "            plt.plot(t,marker[var4-1].data[:,2])\n",
    "            plt.xlabel ('Time [s]')\n",
    "            plt.ylabel ('Marker '+ str(var4) + ' ' + var3 +'[mm]')\n"
   ]
  },
  {
   "cell_type": "code",
   "execution_count": 27,
   "metadata": {},
   "outputs": [
    {
     "data": {
      "text/plain": [
       "<function matplotlib.pyplot.show(close=None, block=None)>"
      ]
     },
     "execution_count": 27,
     "metadata": {},
     "output_type": "execute_result"
    },
    {
     "data": {
      "text/plain": [
       "<Figure size 432x288 with 0 Axes>"
      ]
     },
     "metadata": {},
     "output_type": "display_data"
    }
   ],
   "source": [
    "#here we suppose that participants provided a dictionary such as\n",
    "\n",
    "results[\"logintudinal12\"][marker_num]\n",
    "\n",
    "\n",
    "run_name=[\"longitudinal12\", \"transversal12\", \"bidirectional12\",\"longitudinal25\", \"transversal25\", \"bidirectional25\",\"longitudinal50\",\"longitudinal50new\",\"transversal25new\",\"transversal50new\"] \n",
    "comparison_type=[\"interface\", \"marker\"]\n",
    "opening_type=[\"longitudinal\",\"transversal\"]\n",
    "marker_number=np.linspace(1,11,11).astype('int')\n",
    "\n",
    "\n",
    "@interact_manual(var1 = (run_name), var2=(comparison_type), var3 = (opening_type), var4=(marker_number))\n",
    "def bivariate_plot(var1, var2, var3, var4):\n",
    "    string_start=\"C:/Users/Igor/Google Drive/Doktorski/SERA - Adjacent Interacting Masonry Structures/Optotrak/Test results/Optotrak Python/Marker_data_postprocessed/\"\n",
    "    string_end=\".mat\"\n",
    "    stringfinal=string_start+var1+string_end\n",
    "    a=readmat.mat2dict(stringfinal)\n",
    "    marker=a[\"marker\"]\n",
    "    numsteps=len(marker[0].data)\n",
    "    #print the interface separation\n",
    "    t=np.arange(0,numsteps)/200\n",
    "    \n",
    "    \n",
    "    \n",
    "    \n",
    "    \n",
    "    if var2==\"interface\":\n",
    "        if var3==\"longitudinal\":\n",
    "            plt.figure(0)\n",
    "            plt.plot(t,marker[5].data[:,0]-marker[4].data[:,0])\n",
    "            plt.xlabel ('Time [s]')\n",
    "            plt.ylabel ('\\u0394$_{longitudinal}$ [mm]')   \n",
    "            \n",
    "            plt.plot(t,results[var1][6][:,0]-results[var1][5][:,'0'],color='green')\n",
    "            \n",
    "        elif var3==\"transversal\":\n",
    "            plt.figure(1)\n",
    "            t=np.arange(0,numsteps)/200\n",
    "            plt.plot(t,marker[5].data[:,2]-marker[4].data[:,2])\n",
    "            plt.xlabel ('Time [s]')\n",
    "            plt.ylabel ('\\u0394$_{transversal}$ [mm]')\n",
    "            \n",
    "            plt.plot(t,results[var1][6][:,2]-results[var1][2][:,'0'],color='green')\n",
    "\n",
    "            \n",
    "            \n",
    "    elif var2==\"marker\":\n",
    "        if var3==\"longitudinal\":\n",
    "            plt.figure(0)\n",
    "            plt.plot(t,marker[var4-1].data[:,0])\n",
    "            plt.xlabel ('Time [s]')\n",
    "            plt.ylabel ('Marker '+ str(var4) + ' ' + var3 +'[mm]') \n",
    "            \n",
    "            plt.plot(t,results[var1][var4][:,0], color='green')\n",
    "\n",
    "        elif var3==\"transversal\":\n",
    "            plt.figure(0)\n",
    "            plt.plot(t,marker[var4-1].data[:,2])\n",
    "            plt.xlabel ('Time [s]')\n",
    "            plt.ylabel ('Marker '+ str(var4) + ' ' + var3 +'[mm]')\n",
    "            \n",
    "            plt.plot(t,results[var1][var4][:,2], color='green')\n"
   ]
  },
  {
   "cell_type": "code",
   "execution_count": null,
   "metadata": {},
   "outputs": [],
   "source": []
  },
  {
   "cell_type": "code",
   "execution_count": null,
   "metadata": {},
   "outputs": [],
   "source": []
  }
 ],
 "metadata": {
  "kernelspec": {
   "display_name": "Python 3",
   "language": "python",
   "name": "python3"
  },
  "language_info": {
   "codemirror_mode": {
    "name": "ipython",
    "version": 3
   },
   "file_extension": ".py",
   "mimetype": "text/x-python",
   "name": "python",
   "nbconvert_exporter": "python",
   "pygments_lexer": "ipython3",
   "version": "3.8.5"
  }
 },
 "nbformat": 4,
 "nbformat_minor": 4
}
